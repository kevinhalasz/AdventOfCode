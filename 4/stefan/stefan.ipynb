{
 "cells": [
  {
   "cell_type": "code",
   "execution_count": 1,
   "id": "9aa02bc2-b8c3-4dda-9b7c-47f233e98b04",
   "metadata": {},
   "outputs": [],
   "source": [
    "import stefan"
   ]
  },
  {
   "cell_type": "code",
   "execution_count": 2,
   "id": "b54db4f5-14ac-4674-aa19-d222631bc518",
   "metadata": {},
   "outputs": [],
   "source": [
    "bingo = stefan.Bingo.from_input(\"../input.txt\")"
   ]
  },
  {
   "cell_type": "code",
   "execution_count": 3,
   "id": "f8c7701b-18a9-4570-a92f-b167dc362cf9",
   "metadata": {},
   "outputs": [
    {
     "data": {
      "text/plain": [
       "38594"
      ]
     },
     "execution_count": 3,
     "metadata": {},
     "output_type": "execute_result"
    }
   ],
   "source": [
    "stefan.find_first_winner_score(bingo)"
   ]
  },
  {
   "cell_type": "code",
   "execution_count": 4,
   "id": "fc279e26-b5fc-471d-aca8-10e12ef1b1be",
   "metadata": {},
   "outputs": [
    {
     "data": {
      "text/plain": [
       "21184"
      ]
     },
     "execution_count": 4,
     "metadata": {},
     "output_type": "execute_result"
    }
   ],
   "source": [
    "stefan.find_last_winner_score(bingo)"
   ]
  },
  {
   "cell_type": "code",
   "execution_count": 259,
   "id": "a0266e04-e52b-478c-a1f6-a9049d47c88e",
   "metadata": {},
   "outputs": [
    {
     "data": {
      "text/plain": [
       "21184"
      ]
     },
     "execution_count": 259,
     "metadata": {},
     "output_type": "execute_result"
    }
   ],
   "source": [
    "find_last_winner_score(all_boards)"
   ]
  },
  {
   "cell_type": "code",
   "execution_count": null,
   "id": "d2e04c07-c628-47ce-933a-94a2966ca03e",
   "metadata": {},
   "outputs": [],
   "source": []
  }
 ],
 "metadata": {
  "kernelspec": {
   "display_name": "Python 3 (ipykernel)",
   "language": "python",
   "name": "python3"
  },
  "language_info": {
   "codemirror_mode": {
    "name": "ipython",
    "version": 3
   },
   "file_extension": ".py",
   "mimetype": "text/x-python",
   "name": "python",
   "nbconvert_exporter": "python",
   "pygments_lexer": "ipython3",
   "version": "3.9.9"
  }
 },
 "nbformat": 4,
 "nbformat_minor": 5
}
