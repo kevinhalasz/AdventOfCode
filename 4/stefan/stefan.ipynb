{
 "cells": [
  {
   "cell_type": "code",
   "execution_count": 202,
   "id": "9aa02bc2-b8c3-4dda-9b7c-47f233e98b04",
   "metadata": {},
   "outputs": [],
   "source": [
    "from __future__ import annotations\n",
    "\n",
    "from typing import IO\n",
    "\n",
    "import numpy as np"
   ]
  },
  {
   "cell_type": "code",
   "execution_count": 203,
   "id": "71a81936-f0c4-4c5a-a865-d4d754875772",
   "metadata": {},
   "outputs": [],
   "source": [
    "def single_bingo_array(f: IO) -> np.ndarray[int]:\n",
    "    return np.array(\n",
    "        [[int(x) for x in next(f).strip().split()] for _ in range(5)]\n",
    "    )"
   ]
  },
  {
   "cell_type": "markdown",
   "id": "cca61d0c-371f-482b-804c-dd458aad12ff",
   "metadata": {},
   "source": [
    "Parse input file"
   ]
  },
  {
   "cell_type": "code",
   "execution_count": 204,
   "id": "8a675951-ee05-4b6f-9d3a-65abcbc3df93",
   "metadata": {},
   "outputs": [],
   "source": [
    "with open(\"../input.txt\") as f:\n",
    "    \n",
    "    # Read in the numbers\n",
    "    numbers = [int(x) for x in f.readline().strip().split(\",\")]\n",
    "    \n",
    "    # Check for an empty line separating the boards.\n",
    "    # If it's there read in a board, otherwise, we're done\n",
    "    boards = []\n",
    "    while f.readline():\n",
    "        \n",
    "        # Grab the next 5 lines to make a board\n",
    "        boards.append(single_bingo_array(f))"
   ]
  },
  {
   "cell_type": "markdown",
   "id": "3b55b885-91fb-4ad3-897b-89e0e575f10c",
   "metadata": {},
   "source": [
    "Stack all boards into a high dimensional array"
   ]
  },
  {
   "cell_type": "code",
   "execution_count": 205,
   "id": "ac4f92f7-ea8b-44de-ad91-de48084daafa",
   "metadata": {},
   "outputs": [],
   "source": [
    "all_boards = np.dstack(boards)"
   ]
  },
  {
   "cell_type": "markdown",
   "id": "3964609a-6e38-421c-8ecd-e335abf57a93",
   "metadata": {},
   "source": [
    "Make a mask of what's been called in all the boards; i.e. an all false mask to start"
   ]
  },
  {
   "cell_type": "code",
   "execution_count": 206,
   "id": "fd7d8d55-f2a7-4f73-b95e-4c610ab6d275",
   "metadata": {},
   "outputs": [],
   "source": [
    "called_boards = np.zeros(all_boards.shape, dtype=bool)"
   ]
  },
  {
   "cell_type": "markdown",
   "id": "904e1569-26b8-4e8a-b22f-27d501b67e50",
   "metadata": {},
   "source": [
    "Iterate through the numbers and update the mask as we go. If we find a bingo stop and grab the winning board."
   ]
  },
  {
   "cell_type": "code",
   "execution_count": 207,
   "id": "b275353d-ff92-4b8a-a621-8a03231fbcbb",
   "metadata": {},
   "outputs": [],
   "source": [
    "for num in numbers:\n",
    "    \n",
    "    # Update the called boards with the new number\n",
    "    called_boards += (all_boards == num)\n",
    "    \n",
    "    # Sum the rows and columns to see if we have a bingo\n",
    "    column_scores = called_boards.sum(axis=0)\n",
    "    row_scores = called_boards.sum(axis=1)\n",
    "    \n",
    "    # Looking for a score of 5, which means bingo\n",
    "    column_bingo = np.argwhere(column_scores == 5)\n",
    "    row_bingo = np.argwhere(row_scores == 5)\n",
    "    \n",
    "    # If we actually found one\n",
    "    if (column_winner := column_bingo.size > 0) or (row_winner := row_bingo.size > 0):\n",
    "        if column_winner:\n",
    "            assert column_bingo.shape[0] == 1, \"expected 1 column winner\"\n",
    "            assert not row_winner, \"expected just column winner\"\n",
    "            winning_board_num = column_bingo[0][1]\n",
    "        \n",
    "        if row_winner:\n",
    "            assert row_bingo.shape[0] == 1, \"expected 1 row winner\"\n",
    "            assert not column_winner, \"expected just row winner\"\n",
    "            winning_board_num = row_bingo[0][1]\n",
    "        \n",
    "        break"
   ]
  },
  {
   "cell_type": "markdown",
   "id": "0968a776-2bf6-4774-b3ae-d6ac401556e1",
   "metadata": {},
   "source": [
    "Using the winning board mask we can figure out the sum of the uncalled numbers."
   ]
  },
  {
   "cell_type": "code",
   "execution_count": 208,
   "id": "0bb3d726-51e0-49c4-8610-b555366abc34",
   "metadata": {},
   "outputs": [],
   "source": [
    "uncalled_sum = boards[winning_board_num][\n",
    "    ~called_boards[:, :, winning_board_num]\n",
    "].sum()"
   ]
  },
  {
   "cell_type": "markdown",
   "id": "8a3b4506-e00e-4d9f-b403-85554542326f",
   "metadata": {},
   "source": [
    "And lastly we multiply that sum by the last called number"
   ]
  },
  {
   "cell_type": "code",
   "execution_count": 209,
   "id": "e0d192ee-c99d-48d4-9593-1b35aa3503e9",
   "metadata": {},
   "outputs": [
    {
     "data": {
      "text/plain": [
       "38594"
      ]
     },
     "execution_count": 209,
     "metadata": {},
     "output_type": "execute_result"
    }
   ],
   "source": [
    "uncalled_sum * num"
   ]
  },
  {
   "cell_type": "code",
   "execution_count": null,
   "id": "74d10022-9a24-41ca-8647-a2aae4c088fc",
   "metadata": {},
   "outputs": [],
   "source": []
  }
 ],
 "metadata": {
  "kernelspec": {
   "display_name": "Python 3 (ipykernel)",
   "language": "python",
   "name": "python3"
  },
  "language_info": {
   "codemirror_mode": {
    "name": "ipython",
    "version": 3
   },
   "file_extension": ".py",
   "mimetype": "text/x-python",
   "name": "python",
   "nbconvert_exporter": "python",
   "pygments_lexer": "ipython3",
   "version": "3.9.9"
  }
 },
 "nbformat": 4,
 "nbformat_minor": 5
}
