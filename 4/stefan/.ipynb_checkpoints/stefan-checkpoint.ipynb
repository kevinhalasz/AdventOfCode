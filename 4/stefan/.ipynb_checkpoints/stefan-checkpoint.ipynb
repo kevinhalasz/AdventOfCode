{
 "cells": [
  {
   "cell_type": "code",
   "execution_count": 202,
   "id": "9aa02bc2-b8c3-4dda-9b7c-47f233e98b04",
   "metadata": {},
   "outputs": [],
   "source": [
    "from __future__ import annotations\n",
    "\n",
    "from typing import IO\n",
    "\n",
    "import numpy as np"
   ]
  },
  {
   "cell_type": "code",
   "execution_count": 254,
   "id": "71a81936-f0c4-4c5a-a865-d4d754875772",
   "metadata": {},
   "outputs": [],
   "source": [
    "def single_bingo_array(f: IO) -> np.ndarray[int]:\n",
    "    return np.array(\n",
    "        [[int(x) for x in next(f).strip().split()] for _ in range(5)]\n",
    "    )"
   ]
  },
  {
   "cell_type": "markdown",
   "id": "cca61d0c-371f-482b-804c-dd458aad12ff",
   "metadata": {},
   "source": [
    "Parse input file"
   ]
  },
  {
   "cell_type": "code",
   "execution_count": 255,
   "id": "8a675951-ee05-4b6f-9d3a-65abcbc3df93",
   "metadata": {},
   "outputs": [],
   "source": [
    "with open(\"../input.txt\") as f:\n",
    "    \n",
    "    # Read in the numbers\n",
    "    numbers = [int(x) for x in f.readline().strip().split(\",\")]\n",
    "    \n",
    "    # Check for an empty line separating the boards.\n",
    "    # If it's there read in a board, otherwise, we're done\n",
    "    boards = []\n",
    "    while f.readline():\n",
    "        \n",
    "        # Grab the next 5 lines to make a board\n",
    "        boards.append(single_bingo_array(f))\n",
    "\n",
    "# Stack all the boards in to a high dimensional array.\n",
    "all_boards = np.dstack(boards)"
   ]
  },
  {
   "cell_type": "code",
   "execution_count": 256,
   "id": "bd80f424-5acc-49cd-b0f7-277103119ba9",
   "metadata": {},
   "outputs": [],
   "source": [
    "def find_first_winner_score(all_boards: np.ndarray[int]) -> int:\n",
    "    \n",
    "    # Make a mask of what's been called in all the boards; \n",
    "    # i.e. an all false mask to start\n",
    "    called_boards = np.zeros(all_boards.shape, dtype=bool)\n",
    "    \n",
    "    # Iterate through the numbers and update the mask as we go. \n",
    "    # If we find a bingo stop and grab the winning board.\n",
    "    for num in numbers:\n",
    "    \n",
    "        # Update the called boards with the new number\n",
    "        called_boards += (all_boards == num)\n",
    "\n",
    "        # Sum the rows and columns to see if we have a bingo\n",
    "        column_scores = called_boards.sum(axis=0)\n",
    "        row_scores = called_boards.sum(axis=1)\n",
    "\n",
    "        # Looking for a score of 5, which means bingo\n",
    "        column_bingo = np.argwhere(column_scores == 5)\n",
    "        row_bingo = np.argwhere(row_scores == 5)\n",
    "\n",
    "        # If we actually found one\n",
    "        if (column_winner := column_bingo.size > 0) or (row_winner := row_bingo.size > 0):\n",
    "            if column_winner:\n",
    "                assert column_bingo.shape[0] == 1, \"expected 1 column winner\"\n",
    "                assert not row_winner, \"expected just column winner\"\n",
    "                winning_board_num = column_bingo[0][1]\n",
    "\n",
    "            if row_winner:\n",
    "                assert row_bingo.shape[0] == 1, \"expected 1 row winner\"\n",
    "                assert not column_winner, \"expected just row winner\"\n",
    "                winning_board_num = row_bingo[0][1]\n",
    "\n",
    "            break\n",
    "    \n",
    "    # Using the winning board mask we can figure out the sum of the uncalled numbers.\n",
    "    uncalled_sum = all_boards[:, :, winning_board_num][\n",
    "        ~called_boards[:, :, winning_board_num]\n",
    "    ].sum()\n",
    "    \n",
    "    # And lastly we multiply that sum by the last called number\n",
    "    return uncalled_sum * num"
   ]
  },
  {
   "cell_type": "code",
   "execution_count": 257,
   "id": "e7bed02a-12ea-4eaf-9b2d-4b91673c7478",
   "metadata": {},
   "outputs": [
    {
     "data": {
      "text/plain": [
       "38594"
      ]
     },
     "execution_count": 257,
     "metadata": {},
     "output_type": "execute_result"
    }
   ],
   "source": [
    "find_first_winner_score(all_boards)"
   ]
  },
  {
   "cell_type": "code",
   "execution_count": 258,
   "id": "74d10022-9a24-41ca-8647-a2aae4c088fc",
   "metadata": {},
   "outputs": [],
   "source": [
    "def find_last_winner_score(all_boards: np.ndarray[int]) -> int:\n",
    "    \n",
    "    # Remember the total number of boards\n",
    "    num_boards = all_boards.shape[-1]\n",
    "    \n",
    "    # Make a mask of what's been called in all the boards; \n",
    "    # i.e. an all false mask to start\n",
    "    called_boards = np.zeros(all_boards.shape, dtype=bool)\n",
    "    \n",
    "    # Let's make a datastructure holding all board numbers\n",
    "    all_board_numbers = set(range(num_boards))\n",
    "    \n",
    "    winners = set()\n",
    "    \n",
    "    # Iterate through the numbers and update the mask as we go. \n",
    "    # Go until we find the last board's first bingo stop and grab that board.\n",
    "    for num in numbers:\n",
    "    \n",
    "        # Update the called boards with the new number\n",
    "        called_boards += (all_boards == num)\n",
    "\n",
    "        # Sum the rows and columns to see if we have a bingo\n",
    "        column_scores = called_boards.sum(axis=0)\n",
    "        row_scores = called_boards.sum(axis=1)\n",
    "        \n",
    "        # Figure out which boards have column and/or row winners\n",
    "        has_column_winners = set(np.argwhere(column_scores == 5)[:, 1])\n",
    "        has_row_winners = set(np.argwhere(row_scores == 5)[:, 1])\n",
    "        \n",
    "        # Remember all current winners\n",
    "        current_winners = (has_column_winners | has_row_winners)\n",
    "        \n",
    "        # Skip ahead if we haven't found any winners yet\n",
    "        if not current_winners:\n",
    "            continue\n",
    "        \n",
    "        # Check to see if everyone has won\n",
    "        if len(winners) < num_boards:\n",
    "            \n",
    "            # Who are the new winners?\n",
    "            new_winners = current_winners - winners\n",
    "            \n",
    "            # print(winners, new_winners)\n",
    "            \n",
    "            # If we just found the last winner let's quit\n",
    "            if len(winners | new_winners) == num_boards:\n",
    "                winning_board_num = next(iter(new_winners))\n",
    "                break\n",
    "            # Otherwise update the winners and move along\n",
    "            else:\n",
    "                winners |= new_winners\n",
    "    \n",
    "    # Using the winning board mask we can figure out the sum of the uncalled numbers.\n",
    "    uncalled_sum = all_boards[:, :, winning_board_num][\n",
    "        ~called_boards[:, :, winning_board_num]\n",
    "    ].sum()\n",
    "    \n",
    "    # And lastly we multiply that sum by the last called number\n",
    "    return uncalled_sum * num"
   ]
  },
  {
   "cell_type": "code",
   "execution_count": 259,
   "id": "a0266e04-e52b-478c-a1f6-a9049d47c88e",
   "metadata": {},
   "outputs": [
    {
     "data": {
      "text/plain": [
       "21184"
      ]
     },
     "execution_count": 259,
     "metadata": {},
     "output_type": "execute_result"
    }
   ],
   "source": [
    "find_last_winner_score(all_boards)"
   ]
  },
  {
   "cell_type": "code",
   "execution_count": null,
   "id": "d2e04c07-c628-47ce-933a-94a2966ca03e",
   "metadata": {},
   "outputs": [],
   "source": []
  }
 ],
 "metadata": {
  "kernelspec": {
   "display_name": "Python 3 (ipykernel)",
   "language": "python",
   "name": "python3"
  },
  "language_info": {
   "codemirror_mode": {
    "name": "ipython",
    "version": 3
   },
   "file_extension": ".py",
   "mimetype": "text/x-python",
   "name": "python",
   "nbconvert_exporter": "python",
   "pygments_lexer": "ipython3",
   "version": "3.9.9"
  }
 },
 "nbformat": 4,
 "nbformat_minor": 5
}
