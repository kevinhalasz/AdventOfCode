{
 "cells": [
  {
   "cell_type": "code",
   "execution_count": 1,
   "id": "c3342797-89eb-4fcd-9db6-5a4ee4b676d4",
   "metadata": {},
   "outputs": [],
   "source": [
    "from collections import Counter\n",
    "\n",
    "import stefan"
   ]
  },
  {
   "cell_type": "code",
   "execution_count": 2,
   "id": "bab19351-2ac8-4fc8-8e45-0bcd1997e766",
   "metadata": {},
   "outputs": [],
   "source": [
    "all_covered_points = Counter()\n",
    "\n",
    "with open(\"../input.txt\") as f:\n",
    "    for text in f:\n",
    "        line = stefan.Line.from_input(text)\n",
    "        \n",
    "        # if covered_points := line.covered_points:\n",
    "        #     print(line.start, line.end, covered_points)\n",
    "        #     print()\n",
    "            \n",
    "        all_covered_points.update(line.covered_points)"
   ]
  },
  {
   "cell_type": "code",
   "execution_count": 4,
   "id": "e410436d-6596-4ef1-8dc5-05bdcaa0e831",
   "metadata": {},
   "outputs": [],
   "source": [
    "well_covered = [point for point, count in all_covered_points.items() if count >= 2]"
   ]
  },
  {
   "cell_type": "code",
   "execution_count": 5,
   "id": "8f53dd48-e32d-4c65-a360-d2e1337a7c8b",
   "metadata": {},
   "outputs": [
    {
     "data": {
      "text/plain": [
       "4655"
      ]
     },
     "execution_count": 5,
     "metadata": {},
     "output_type": "execute_result"
    }
   ],
   "source": [
    "len(well_covered)"
   ]
  }
 ],
 "metadata": {
  "kernelspec": {
   "display_name": "Python 3 (ipykernel)",
   "language": "python",
   "name": "python3"
  },
  "language_info": {
   "codemirror_mode": {
    "name": "ipython",
    "version": 3
   },
   "file_extension": ".py",
   "mimetype": "text/x-python",
   "name": "python",
   "nbconvert_exporter": "python",
   "pygments_lexer": "ipython3",
   "version": "3.9.9"
  }
 },
 "nbformat": 4,
 "nbformat_minor": 5
}
